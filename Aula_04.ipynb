{
  "nbformat": 4,
  "nbformat_minor": 0,
  "metadata": {
    "colab": {
      "provenance": [],
      "authorship_tag": "ABX9TyNXp3x9sAo+ggPWBtDu69TQ",
      "include_colab_link": true
    },
    "kernelspec": {
      "name": "python3",
      "display_name": "Python 3"
    },
    "language_info": {
      "name": "python"
    }
  },
  "cells": [
    {
      "cell_type": "markdown",
      "metadata": {
        "id": "view-in-github",
        "colab_type": "text"
      },
      "source": [
        "<a href=\"https://colab.research.google.com/github/Turchiellows/CurosExtensaoPythonPandas2023-1/blob/main/Aula_04.ipynb\" target=\"_parent\"><img src=\"https://colab.research.google.com/assets/colab-badge.svg\" alt=\"Open In Colab\"/></a>"
      ]
    },
    {
      "cell_type": "code",
      "execution_count": null,
      "metadata": {
        "id": "mX24gSGUPZjc"
      },
      "outputs": [],
      "source": [
        "# Elias Bernabé Turchiello\n",
        "# 09/02/2023\n",
        "\n",
        "################################################################################\n",
        "# IMPORTS\n",
        "################################################################################\n",
        "import pandas as pd\n",
        "import numpy as np\n",
        "import datetime\n",
        "\n",
        "\n",
        "\n",
        "\n",
        "\n",
        "################################################################################\n",
        "# FUNCTIONS\n",
        "################################################################################\n",
        "\n",
        "def show_header(message, wdt, chr):\n",
        "    tm = datetime.datetime.now().time()\n",
        "    print(f'{chr}' * wdt)\n",
        "    print(f'{chr} {message.upper()} {tm}')\n",
        "    print(f'{chr}' * wdt)\n",
        "\n",
        "\n",
        "def spliter():\n",
        "    print(f'-' * 120)\n",
        "    print(f'-' * 120)\n",
        "\n",
        "\n",
        "\n",
        "\n",
        "\n",
        "\n",
        "\n",
        "################################################################################\n",
        "# RUN\n",
        "################################################################################\n",
        "\n",
        "# SHOW A HEADER\n",
        "show_header('aula 04 - loading data ', 120, '#')\n",
        "start           = datetime.datetime.now().time()\n",
        "print(f'start          -> loading... - {start}'.upper())\n",
        "\n",
        "# LOAD THE DATABASES FROM SOME FILES\n",
        "fuel            = pd.read_excel('/content/ca202102_20230207120945.xlsx')\n",
        "finish          = datetime.datetime.now().time()\n",
        "print(f'fuel           -> success!! - {finish}'.upper())\n",
        "\n",
        "# polulation    = pd.read_csv('/content/ibge_num_habitantes_estimado.csv', delimiter=';')     # Thhis work too\n",
        "population      = pd.read_csv('/content/ibge_num_habitantes_estimado.csv', sep =';')\n",
        "finish          = datetime.datetime.now().time()\n",
        "print(f'population     -> success!! - {finish}'.upper())\n"
      ]
    },
    {
      "cell_type": "code",
      "source": [
        "# SORTING BY A STATIC VALUE IF IT IS EXPENSIVE OR CHEEAP\n",
        "# Using numpy library\n",
        "fuel['OBS']       = np.where(fuel['Valor de Venda'] > 5.5, 'Caro', 'Barato')\n",
        "# display(db[['Revenda', 'Valor de Venda', 'OBS']])\n",
        "\n",
        "\n",
        "\n",
        "\n",
        "\n",
        "# COUNTING THE NUMBER OF FUEL STATION PER POPULATION\n",
        "\n",
        "# RENAME A COLUMN\n",
        "population.rename(columns={'Estado': 'Estado - Sigla'}, inplace = True)\n",
        "# display(population)\n",
        "\n",
        "\n",
        "\n",
        "# MERGE THE TWO DATABASES\n",
        "columns     = ['Municipio', 'Estado - Sigla']\n",
        "gastation   = fuel.merge(population, how='inner', on= columns)\n",
        "# gastation   = fuel.merge(population, how='left', on= columns)\n",
        "# gastation   = fuel.merge(population, how='right', on= columns)\n",
        "# gastation   = fuel.merge(population, how='outer', on= columns)\n",
        "# gastation   = fuel.merge(population, how='cross')\n",
        "\n",
        "\n",
        "\n",
        "# DROP ALL EMPTY COLUMNS\n",
        "gastation.dropna(axis = 1, inplace=True) # Drop empty lines\n",
        "gastation.drop(labels = ['Produto', 'Regiao - Sigla', 'Nome da Rua','Numero Rua', 'Bairro', 'Cep', 'Data da Coleta', 'Valor de Venda', 'Unidade de Medida', 'Bandeira', 'OBS' ], axis = 1, inplace = True) # Drop specific columns\n",
        "gastation.drop_duplicates(inplace = True) # Drop duplicate lines\n",
        "\n",
        "\n",
        "\n",
        "# GROUP AND COUNTING\n",
        "gastation_sum = gastation.groupby(by=['Estado - Sigla', 'Municipio', 'NumHabitantes2021']).count() # Grouping and counting\n",
        "gastation_sum.reset_index(inplace = True)\n",
        "gastation_sum.drop('CNPJ da Revenda', axis = 1, inplace = True) # Drop a specific column\n",
        "gastation_sum.rename(columns={'Revenda' : 'Quantidade'}, inplace = True) # Rename a specific column\n",
        "\n",
        "# HOW MANY PEOPLE ARE SERVED BY EACH FUELSTATION?\n",
        "gastation_sum['Fpeople'] = (gastation_sum[\"NumHabitantes2021\"] / gastation_sum[\"Quantidade\"]).round(2)\n",
        "\n",
        "# display(gastation.info())\n",
        "# display(gastation)\n",
        "display(gastation_sum)\n",
        "\n",
        "\n"
      ],
      "metadata": {
        "id": "P7NOxQlTPb72"
      },
      "execution_count": null,
      "outputs": []
    }
  ]
}