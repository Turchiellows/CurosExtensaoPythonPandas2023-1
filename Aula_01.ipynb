{
  "nbformat": 4,
  "nbformat_minor": 0,
  "metadata": {
    "colab": {
      "provenance": [],
      "authorship_tag": "ABX9TyPKiZKfnAUfRlNrC+plYfZY",
      "include_colab_link": true
    },
    "kernelspec": {
      "name": "python3",
      "display_name": "Python 3"
    },
    "language_info": {
      "name": "python"
    }
  },
  "cells": [
    {
      "cell_type": "markdown",
      "metadata": {
        "id": "view-in-github",
        "colab_type": "text"
      },
      "source": [
        "<a href=\"https://colab.research.google.com/github/Turchiellows/CurosExtensaoPythonPandas2023-1/blob/main/Aula_01.ipynb\" target=\"_parent\"><img src=\"https://colab.research.google.com/assets/colab-badge.svg\" alt=\"Open In Colab\"/></a>"
      ]
    },
    {
      "cell_type": "code",
      "execution_count": null,
      "metadata": {
        "id": "qT1CHpWHuDqL"
      },
      "outputs": [],
      "source": [
        "################################################################################\n",
        "# IMPORTS\n",
        "################################################################################\n",
        "import pandas as pd\n",
        "\n",
        "\n",
        "\n",
        "\n",
        "\n",
        "################################################################################\n",
        "# CONFIG\n",
        "################################################################################\n",
        "\n",
        "\n",
        "\n",
        "\n",
        "\n",
        "\n",
        "################################################################################\n",
        "# FUNCTIONS\n",
        "################################################################################\n",
        "\n",
        "def show_header(message, wdt, chr):\n",
        "    print(f'{chr}' * wdt)\n",
        "    print(f'{chr} {message}'.upper())\n",
        "    print(f'{chr}' * wdt)\n",
        "\n",
        "\n",
        "\n",
        "\n",
        "\n",
        "################################################################################\n",
        "# RUN\n",
        "################################################################################\n",
        "\n",
        "show_header('data manipulation', 120, '#')\n",
        "\n",
        "# data_full = pd.read_csv('/content/precos-semestrais-ca-2022-01.csv')\n",
        "data_partial = pd.read_excel('/content/ca202102_20230207120945.xlsx')\n",
        "print(data_partial)\n"
      ]
    }
  ]
}